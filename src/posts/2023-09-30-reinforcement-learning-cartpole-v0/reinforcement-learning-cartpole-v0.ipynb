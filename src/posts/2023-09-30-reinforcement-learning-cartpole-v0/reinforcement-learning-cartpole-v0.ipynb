{
 "cells": [
  {
   "cell_type": "markdown",
   "id": "12876c63-5a96-4652-abc2-b05cf1a87d7c",
   "metadata": {},
   "source": [
    "**Purpose:** Solve the `CartPole-v0` from OpenAI `gym` using Q-learning with experience resampling."
   ]
  },
  {
   "cell_type": "markdown",
   "id": "5f8d95c2-3a03-45df-8247-9d96cbe7986b",
   "metadata": {},
   "source": [
    "`CartPole-v0` is solved using Q-learning with experience resampling. The experience is saved in a reservoir list.\n",
    "\n",
    "From the terminal run:\n",
    "\n",
    "```bash\n",
    "python train.py\n",
    "```\n",
    "\n",
    "And then:\n",
    "\n",
    "```bash\n",
    "python evaluate.py\n",
    "```\n",
    "\n",
    "Training and hyperparameter tuning can be done in a Jupyter Notebook as showed below.\n",
    "\n",
    "```python\n",
    "import train\n",
    "\n",
    "train.main(\n",
    "    render=False,\n",
    "    gamma=0.95,\n",
    "    epsilon=0.1,\n",
    "    n_episodes=5,\n",
    "    training_size=10000,\n",
    "    experience_size=10000,\n",
    "    batch_size=64,\n",
    "    epochs=50,\n",
    ")\n",
    "```"
   ]
  }
 ],
 "metadata": {
  "kernelspec": {
   "display_name": "Python 3 (ipykernel)",
   "language": "python",
   "name": "python3"
  },
  "language_info": {
   "codemirror_mode": {
    "name": "ipython",
    "version": 3
   },
   "file_extension": ".py",
   "mimetype": "text/x-python",
   "name": "python",
   "nbconvert_exporter": "python",
   "pygments_lexer": "ipython3",
   "version": "3.11.7"
  }
 },
 "nbformat": 4,
 "nbformat_minor": 5
}
