{
 "cells": [
  {
   "cell_type": "markdown",
   "id": "60b41dba-6956-4d69-9c13-ac57ec440fb6",
   "metadata": {},
   "source": [
    "# Intervals\n",
    "**Purpose:** Show ways of making operations in Python on sets defined as lists of intervals e.g. sets of the form A=[[a1, a2], [a3, a4], ..., [an-1, an]] and B=[[b1, b2], [b3, b4], ..., [bm-1, bm]]."
   ]
  },
  {
   "cell_type": "markdown",
   "id": "4f391fb9-3b51-49a7-81ea-00f45b4f584c",
   "metadata": {},
   "source": [
    "## Test of Intersection\n",
    "\n",
    "Union of two sets A=[a1, a2] and B=[b1, b2] can be done by first checking that the sets intersect a check of this can be done using below rule:\n",
    "\n",
    "$$\n",
    "\\begin{aligned}\n",
    "\\left[a1, a2\\right] \\cap \\left[b1, b2\\right] = \\emptyset &\\iff a2 \\lt b1 \\lor b2 \\lt a1 \\\\\n",
    "&\\Updownarrow \\\\\n",
    "\\left[a1, a2\\right] \\cap \\left[b1, b2\\right] \\neq \\emptyset &\\iff a2 \\geq b1 \\land b2 \\geq a1\n",
    "\\end{aligned}\n",
    "$$\n",
    "\n",
    "Using negation and De Morgan's law."
   ]
  },
  {
   "cell_type": "markdown",
   "id": "ce3002cb-7341-40a6-93fb-e67481343a4a",
   "metadata": {},
   "source": [
    "## Union\n",
    "To union a list of sets one can use below."
   ]
  },
  {
   "cell_type": "code",
   "execution_count": 210,
   "id": "2ecf0835-0184-4df5-bbef-b1fff78fb35a",
   "metadata": {},
   "outputs": [
    {
     "name": "stdout",
     "output_type": "stream",
     "text": [
      "[[1, 3], [6, 12]]\n",
      "[[2, 4], [7, 11], [14, 16]]\n",
      "[[1, 16]]\n"
     ]
    }
   ],
   "source": [
    "from collections import defaultdict\n",
    "from typing import List\n",
    "\n",
    "ListOfIntervals = List[List[int]]\n",
    "\n",
    "A = [[1, 3], [6, 8], [9, 10], [10, 10], [11, 12], [11, 12]]\n",
    "B = [[2, 4], [7, 8], [9, 11], [10, 10], [14, 16]]\n",
    "\n",
    "def reduce(I: ListOfIntervals, dialate: int = 1) -> ListOfIntervals:\n",
    "    \"\"\"Reduces a list of intervals to a compressed form.\n",
    "    \n",
    "    Args:\n",
    "        dialate (int): An integer that dialates all intervals before they're reduced.\n",
    "            The dialation is reversed afterwards. Can be used if one does not care\n",
    "            about short differences.\n",
    "            \n",
    "    Returns:\n",
    "        ListOfIntervals: A compressed list of intervals without overlapping intervals.\n",
    "    \"\"\"\n",
    "    X = defaultdict(list)\n",
    "    for t1, t2 in I:\n",
    "        X[t1 - dialate].append(\"start\")\n",
    "        X[t2 + dialate].append(\"stop\")\n",
    "\n",
    "    union = []\n",
    "    start = []\n",
    "    stop = []\n",
    "    for key in sorted(X.keys()):\n",
    "        for value in X[key]:\n",
    "            if value == \"start\":\n",
    "                start.append(key)\n",
    "            else:\n",
    "                stop.append(key)\n",
    "\n",
    "        if len(start) == len(stop):  # All intervals are closed.\n",
    "            union.append([min(start) + dialate, max(stop) - dialate])\n",
    "            start = []\n",
    "            stop = []\n",
    "            \n",
    "    return union\n",
    "\n",
    "print(reduce(A))\n",
    "print(reduce(B))\n",
    "print(reduce(A + B))  # union"
   ]
  }
 ],
 "metadata": {
  "kernelspec": {
   "display_name": "Python 3 (ipykernel)",
   "language": "python",
   "name": "python3"
  },
  "language_info": {
   "codemirror_mode": {
    "name": "ipython",
    "version": 3
   },
   "file_extension": ".py",
   "mimetype": "text/x-python",
   "name": "python",
   "nbconvert_exporter": "python",
   "pygments_lexer": "ipython3",
   "version": "3.10.6"
  }
 },
 "nbformat": 4,
 "nbformat_minor": 5
}
