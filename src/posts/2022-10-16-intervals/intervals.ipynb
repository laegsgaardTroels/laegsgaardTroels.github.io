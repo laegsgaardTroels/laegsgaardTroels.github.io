{
 "cells": [
  {
   "cell_type": "markdown",
   "id": "60b41dba-6956-4d69-9c13-ac57ec440fb6",
   "metadata": {
    "tags": []
   },
   "source": [
    "**Purpose:** Show ways of making operations in Python on sets defined as lists of intervals e.g. sets of the form $A=[a_1, a_2]\\cup[a_3, a_4]\\cup\\dots\\cup[a_{n-1}, a_n]$ and $B=[b_1, b_2]\\cup[b_3, b_4]\\cup\\dots\\cup[b_{m-1}, b_m]$. Done as an exercise, it is likely that there are smarter ways of doing this.\n",
    "\n",
    "## Intersection\n",
    "\n",
    "Union of two sets $A=[a_1, a_2]$ and $B=[b_1, b_2]$ can be done by first checking that the sets intersect. A check of this can be done using below rule:\n",
    "\n",
    "$$\n",
    "\\begin{aligned}\n",
    "\\left[a_1, a_2\\right] \\cap \\left[b_1, b_2\\right] = \\emptyset &\\iff a_2 \\lt b_1 \\lor b_2 \\lt a_1 \\\\\n",
    "&\\Updownarrow \\\\\n",
    "\\left[a_1, a_2\\right] \\cap \\left[b_1, b_2\\right] \\neq \\emptyset &\\iff a_2 \\geq b_1 \\land b_2 \\geq a_1\n",
    "\\end{aligned}\n",
    "$$\n",
    "\n",
    "Using negation and De Morgan's law.\n",
    "\n",
    "If they intersect then the representation of the union can be reduced from four numbers $a_1, a_2, b_1, b_2$ to two numbers $c_1=\\min(a_1, b_1)$ and $c_2=\\max(a_2, b_2)$. \n",
    "\n",
    "$$\n",
    "\\begin{aligned}\n",
    "a_2 \\geq b_1 \\land b_2 \\geq a_1 &\\implies \\left[a_1, a_2\\right] \\cup \\left[b_1, b_2\\right] = \\left[c_1, c_2\\right]\n",
    "\\end{aligned}\n",
    "$$\n",
    "\n",
    "## Reduction\n",
    "\n",
    "To reduce unions of intervals $A=[a_1, a_2]\\cup[a_3, a_4]\\cup\\dots\\cup[a_{n-1}, a_n]$ and $B=[b_1, b_2]\\cup[b_3, b_4]\\cup\\dots\\cup[b_{m-1}, b_m]$ one can start by merging the two to\n",
    "\n",
    "$$\n",
    "\\begin{aligned}\n",
    "C&=[a_1, a_2]\\cup[a_3, a_4]\\cup\\dots\\cup[a_{n-1}, a_n]\\cup[b_1, b_2]\\cup[b_3, b_4]\\cup\\dots\\cup[b_{m-1}, b_m] \\\\\n",
    "&=[c_1, c_2]\\cup[c_3, c_4]\\cup\\dots\\cup[c_{N-1}, c_{N}]\n",
    "\\end{aligned}\n",
    "$$\n",
    "Where $N=m+n$.\n",
    "\n",
    "Assume $C = [c_1, c_2]\\cup[c_3, c_4]\\cup\\dots\\cup[c_{N-1}, c_{N}]$ is sorted by the lhs of each interval.\n",
    "\n",
    "Then \n",
    "\n",
    "$$\n",
    "\\begin{aligned}\n",
    "(c_2 \\geq c_3 \\land c_4 \\geq c_1) = c_2 \\geq c_3 &\\implies \\left[c_1, c_2\\right] \\cup \\left[c_3, c_4\\right] = \\left[c_1, \\max(c_2, c_4)\\right] \\\\\n",
    "c_2 \\lt c_3 &\\implies \\left[c_1, c_2\\right] \\cap \\left[c_3, c_4\\right] = \\emptyset\n",
    "\\end{aligned}\n",
    "$$\n",
    "\n",
    "So if $c_2 \\geq c_3$ then merge the two intervals and if $c_2 \\lt c_3$ then start a new disjoint interval $\\left[c_3, c_4\\right]$ and repeat."
   ]
  },
  {
   "cell_type": "code",
   "execution_count": 94,
   "id": "2ecf0835-0184-4df5-bbef-b1fff78fb35a",
   "metadata": {},
   "outputs": [],
   "source": [
    "from collections import defaultdict\n",
    "from typing import List\n",
    "\n",
    "ListOfIntervals = list[list[float]]\n",
    "\n",
    "def reduce(C: ListOfIntervals) -> ListOfIntervals:\n",
    "    \"\"\"Reduces a list of intervals to a compressed form.\n",
    "            \n",
    "    Returns:\n",
    "        ListOfIntervals: A compressed list of intervals without overlapping intervals\n",
    "            and sorted by the lhs of each interval.\n",
    "    \"\"\"\n",
    "    C_sorted = sorted(C, key=lambda x: x[0])  # Sort by lhs\n",
    "    union = [list(C_sorted[0])]  # Initialize with a copy\n",
    "    for lhs, rhs in C_sorted[1:]:\n",
    "        if union[-1][1] >= lhs:  # c_2 >= c_3\n",
    "            if rhs >= union[-1][1]:  # max(c_1, c_4)\n",
    "                union[-1][1] = rhs\n",
    "        else:\n",
    "            union.append([lhs, rhs])  # If they don't intersect then start new\n",
    "    return union"
   ]
  },
  {
   "cell_type": "code",
   "execution_count": 95,
   "id": "a2a20a83-ecc1-4119-8665-887a549d26a9",
   "metadata": {},
   "outputs": [
    {
     "name": "stdout",
     "output_type": "stream",
     "text": [
      "[[1, 5]]\n",
      "[[8, 10]]\n",
      "[[1, 5], [8, 10]]\n"
     ]
    }
   ],
   "source": [
    "A = [[2, 5], [1, 3]]\n",
    "B = [[8, 10]]\n",
    "\n",
    "print(reduce(A))\n",
    "print(reduce(B))\n",
    "print(reduce(A + B))  # union"
   ]
  },
  {
   "cell_type": "code",
   "execution_count": 96,
   "id": "f8293162-36fc-42ea-a4e1-9074541d9c71",
   "metadata": {},
   "outputs": [
    {
     "name": "stdout",
     "output_type": "stream",
     "text": [
      "[[1, 5]]\n",
      "[[8, 10]]\n",
      "[[1, 5], [8, 10]]\n"
     ]
    }
   ],
   "source": [
    "A = [[1, 3], [3, 5]]\n",
    "B = [[8, 10]]\n",
    "\n",
    "print(reduce(A))\n",
    "print(reduce(B))\n",
    "print(reduce(A + B))  # union"
   ]
  },
  {
   "cell_type": "code",
   "execution_count": 97,
   "id": "50d28303-e436-42fe-a00f-71471acd4c33",
   "metadata": {},
   "outputs": [
    {
     "name": "stdout",
     "output_type": "stream",
     "text": [
      "[[1, 6], [7, 8], [9, 10], [11, 12]]\n",
      "[[2, 8], [9, 11], [14, 16]]\n",
      "[[1, 8], [9, 12], [14, 16]]\n"
     ]
    }
   ],
   "source": [
    "A = [[1, 6], [7, 8], [9, 10], [10, 10], [11, 12], [11, 12]]\n",
    "B = [[2, 4], [4, 8], [9, 11], [10, 10], [14, 16]]\n",
    "\n",
    "print(reduce(A))\n",
    "print(reduce(B))\n",
    "print(reduce(A + B))  # union"
   ]
  }
 ],
 "metadata": {
  "kernelspec": {
   "display_name": "Python 3 (ipykernel)",
   "language": "python",
   "name": "python3"
  },
  "language_info": {
   "codemirror_mode": {
    "name": "ipython",
    "version": 3
   },
   "file_extension": ".py",
   "mimetype": "text/x-python",
   "name": "python",
   "nbconvert_exporter": "python",
   "pygments_lexer": "ipython3",
   "version": "3.9.10"
  }
 },
 "nbformat": 4,
 "nbformat_minor": 5
}
