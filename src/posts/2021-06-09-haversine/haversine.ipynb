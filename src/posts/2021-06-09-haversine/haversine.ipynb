{
 "cells": [
  {
   "cell_type": "markdown",
   "id": "ceb7b7ff-26a8-46e5-a7ed-48d94b7403ef",
   "metadata": {
    "editable": true,
    "slideshow": {
     "slide_type": ""
    },
    "tags": []
   },
   "source": [
    "The haversine distance can be used to calculate the distance between two points on a sphere. Here is my derivation of it. Assume you have two points $p_1 = (r, \\theta_1, \\varphi_1)$ and $p_2=(r, \\theta_2, \\varphi_2)$ in spherical coordinates. \n",
    "\n",
    "$r$ is the radius of the sphere. $\\theta_1, \\theta_2\\in(-\\frac{\\pi}{2}, \\frac{\\pi}{2}]$ is the latitude. $\\varphi_1, \\varphi_2\\in(-\\pi, \\pi]$ is the longitude.\n",
    "\n",
    "You can convert spherical coordinates to cartesian coordinates (vectors) using:\n",
    "\n",
    "$$\n",
    "\\begin{aligned}\n",
    "x &= r \\cdot \\cos(\\theta)\\cos(\\varphi) \\\\\n",
    "y &= r \\cdot \\cos(\\theta)\\sin(\\varphi) \\\\\n",
    "z &= r \\cdot \\sin(\\theta)\n",
    "\\end{aligned}\n",
    "$$\n",
    "\n",
    "$z = r \\cdot \\sin(\\theta)$ is north/south, $x = r \\cdot \\cos(\\theta)\\cos(\\varphi)$ and $y = r \\cdot \\cos(\\theta)\\sin(\\varphi)$ defines a plane orthogonal to north/south.\n",
    "\n",
    "Remember the dot product between two points is:\n",
    "\n",
    "$$\n",
    "\\begin{aligned}\n",
    "    v_1 \\cdot v_2 = \\lVert v_1 \\rVert \\lVert v_2 \\rVert \\cos(\\angle(v_1, v_2))\n",
    "\\end{aligned}\n",
    "$$\n",
    "\n",
    "Where $\\angle(v_1, v_2)$ is the angle between the two vectors. Let $v_1 = (x_1, y_1, z_1)^T$ and $v_2 = (x_2, y_2, z_2)^T$ where $\\lVert v_1 \\rVert = \\lVert v_2 \\rVert = r$. You can now calculate this angle by:\n",
    "\n",
    "$$\n",
    "\\begin{aligned}\n",
    "\\angle(v_1, v_2) \n",
    "&= \\arccos[\\frac{v_1}{\\lVert v_1 \\rVert} \\frac{v_2}{\\lVert v_2 \\rVert}] \\\\\n",
    "&= \\arccos[\\cos(\\theta_1)\\cos(\\varphi_1) \\cos(\\theta_2)\\cos(\\varphi_2) + \\cos(\\theta_1)\\sin(\\varphi_1)\\cos(\\theta_2)\\sin(\\varphi_2) + \\sin(\\theta_1) \\sin(\\theta_2)]\n",
    "\\end{aligned}\n",
    "$$\n",
    "\n",
    "You can calculate the distance between two points with angle $\\angle(v_1, v_2)$ on a circle with radius $r$ as:\n",
    "\n",
    "$$\n",
    "d = r \\cdot \\angle(v_1, v_2)\n",
    "$$\n",
    "\n",
    "To show that this is the haversine:\n",
    "\n",
    "$$\n",
    "\\begin{aligned}\n",
    "d &= r \\cdot \\arccos[\\cos(\\theta_1)\\cos(\\varphi_1) \\cos(\\theta_2)\\cos(\\varphi_2) + \\cos(\\theta_1)\\sin(\\varphi_1)\\cos(\\theta_2)\\sin(\\varphi_2) + \\sin(\\theta_1) \\sin(\\theta_2)] \\\\\n",
    "& = r \\cdot \\arccos[\\cos(\\theta_1)\\cos(\\theta_2) [\\cos(\\varphi_1) \\cos(\\varphi_2) + \\sin(\\varphi_1)\\sin(\\varphi_2)] + \\sin(\\theta_1) \\sin(\\theta_2)] \\\\\n",
    "& = r \\cdot \\arccos[\\cos(\\theta_1)\\cos(\\theta_2) \\cos(\\varphi_2 - \\varphi_1) + \\sin(\\theta_1) \\sin(\\theta_2)] \\\\\n",
    "& = 2r \\cdot \\arcsin[(\\frac{1 -[\\cos(\\theta_1)\\cos(\\theta_2) \\cos(\\varphi_2 - \\varphi_1) + \\sin(\\theta_1) \\sin(\\theta_2)]}{2})^{0.5}] \\\\\n",
    "& = 2r \\cdot \\arcsin[(\\frac{1 -\\cos(\\theta_1)\\cos(\\theta_2) \\cos(\\varphi_2 - \\varphi_1) - \\sin(\\theta_1) \\sin(\\theta_2)]}{2})^{0.5}] \\\\\n",
    "& = 2r \\cdot \\arcsin[(\\frac{1 -\\cos(\\theta_1)\\cos(\\theta_2) \\cos(\\varphi_2 - \\varphi_1) - (\\cos(\\theta_2 - \\theta_1) - \\cos(\\theta_1) \\cos(\\theta_2))}{2})^{0.5}] \\\\\n",
    "& = 2r \\cdot \\arcsin[(\\frac{1 -\\cos(\\theta_1)\\cos(\\theta_2) \\cos(\\varphi_2 - \\varphi_1) - \\cos(\\theta_2 - \\theta_1) + \\cos(\\theta_1) \\cos(\\theta_2)}{2})^{0.5}] \\\\\n",
    "& = 2r \\cdot \\arcsin[(\\frac{1 - \\cos(\\theta_2 - \\theta_1) + \\cos(\\theta_1)\\cos(\\theta_2) (1 - \\cos(\\varphi_2 - \\varphi_1))}{2})^{0.5}] \\\\\n",
    "& = 2r \\cdot \\arcsin[(\\sin^2(\\frac{\\theta_2 - \\theta_2}{2}) + \\cos(\\theta_1)\\cos(\\theta_2)\\sin^2(\\frac{\\varphi_2 - \\varphi_1}{2}))^{0.5}] \\\\\n",
    "\\end{aligned}\n",
    "$$\n",
    "\n",
    "For the first equality we expand on the equality above. For the second we refactor $\\cos(\\theta_1)\\cos(\\theta_2)$. For the third equality it is used that: $\\cos(\\varphi_2 - \\varphi_1) = \\cos(\\varphi_1) \\cos(\\varphi_2) + \\sin(\\varphi_1)\\sin(\\varphi_2)$. For the fourth we ues that $\\arccos(x)=2\\arcsin[(\\frac{1-x}{2})^{0.5})$. For the fifth we multiply $-1$ into the parenthesis. For the sixth we use $ \\sin(\\theta_1)\\sin(\\theta_2) = \\cos(\\theta_2 - \\theta_1) - \\cos(\\theta_1) \\cos(\\theta_2)$. For the seventh we multiply $-1$ into the parenthesis. For the eigth we rearrange. For the eigth we use $\\sin^2(\\frac{x}{2}) = \\frac{1-\\cos(x)}{2}$\n",
    "\n",
    "The righthand side is now the haversine, see [1]. And voila done."
   ]
  },
  {
   "cell_type": "markdown",
   "id": "ff175d80",
   "metadata": {},
   "source": [
    "## Example: AIS Data\n",
    "\n",
    "Here is a small example in Python with AIS data for one vessel. I calculate the distance between each point and compare two of above calculations."
   ]
  },
  {
   "cell_type": "code",
   "execution_count": 1,
   "id": "607b43c5",
   "metadata": {},
   "outputs": [],
   "source": [
    "import numpy as np\n",
    "\n",
    "# Radius of the earth in meters.\n",
    "EARTH_RADIUS_METERS = 6378137.00\n",
    "\n",
    "ais = np.genfromtxt('ais.csv', delimiter=',', names=True) \n",
    "\n",
    "def haversine(lat1, lon1, lat2, lon2):\n",
    "    lat1, lon1, lat2, lon2 = map(np.radians, [lat1, lon1, lat2, lon2])\n",
    "    dlat = lat2 - lat1\n",
    "    dlon = lon2 - lon1\n",
    "    a = (\n",
    "        np.sin(dlat / 2.0) ** 2\n",
    "        + np.cos(lat1) * np.cos(lat2) * np.sin(dlon / 2.0) ** 2\n",
    "    )\n",
    "    return 2 * EARTH_RADIUS_METERS * np.arcsin(np.sqrt(a))\n",
    "\n",
    "\n",
    "def other_haversine(lat1, lon1, lat2, lon2):\n",
    "    lat1, lon1, lat2, lon2 = map(np.radians, [lat1, lon1, lat2, lon2])\n",
    "    x1, y1, z1 = xyz(lat1, lon1)\n",
    "    x2, y2, z2 = xyz(lat2, lon2)\n",
    "    theta = np.arccos(x1 * x2 + y1 * y2 + z1 * z2)\n",
    "    return theta * EARTH_RADIUS_METERS\n",
    "\n",
    "\n",
    "def xyz(lat, lon):\n",
    "    x = np.cos(lat) * np.cos(lon)\n",
    "    y = np.cos(lat) * np.sin(lon)\n",
    "    z = np.sin(lat)\n",
    "    return x, y, z "
   ]
  },
  {
   "cell_type": "markdown",
   "id": "6f1bc271",
   "metadata": {},
   "source": [
    "They're equal up to 1 cm e.g. 0.01 meter."
   ]
  },
  {
   "cell_type": "code",
   "execution_count": 2,
   "id": "df1098e3",
   "metadata": {},
   "outputs": [
    {
     "data": {
      "text/plain": [
       "True"
      ]
     },
     "execution_count": 2,
     "metadata": {},
     "output_type": "execute_result"
    }
   ],
   "source": [
    "lat1 = ais['latitude'][1:]\n",
    "lon1 = ais['longitude'][1:]\n",
    "lat2 = ais['latitude'][:-1]\n",
    "lon2 = ais['longitude'][:-1]\n",
    "\n",
    "np.all(np.abs(other_haversine(lat1, lon1, lat2, lon2) - haversine(lat1, lon1, lat2, lon2)) < 0.01)"
   ]
  },
  {
   "cell_type": "markdown",
   "id": "6ebcb34f",
   "metadata": {},
   "source": [
    "# References\n",
    "\n",
    "[1] https://en.wikipedia.org/wiki/Haversine_formula\n",
    "\n",
    "[2] https://en.wikipedia.org/wiki/Circular_arc"
   ]
  }
 ],
 "metadata": {
  "kernelspec": {
   "display_name": "Python 3 (ipykernel)",
   "language": "python",
   "name": "python3"
  },
  "language_info": {
   "codemirror_mode": {
    "name": "ipython",
    "version": 3
   },
   "file_extension": ".py",
   "mimetype": "text/x-python",
   "name": "python",
   "nbconvert_exporter": "python",
   "pygments_lexer": "ipython3",
   "version": "3.11.6"
  }
 },
 "nbformat": 4,
 "nbformat_minor": 5
}
