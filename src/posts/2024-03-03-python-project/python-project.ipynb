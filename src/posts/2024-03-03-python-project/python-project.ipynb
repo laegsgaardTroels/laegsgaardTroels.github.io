{
 "cells": [
  {
   "cell_type": "markdown",
   "id": "bd5ea4a6-b691-42b5-9dff-c23e3f885e66",
   "metadata": {},
   "source": [
    "**Purpose:** Notes on good ideas for organizing and developing a Python project."
   ]
  },
  {
   "cell_type": "markdown",
   "id": "044a3d26-707f-4ea8-8b67-323f6800eccd",
   "metadata": {
    "tags": []
   },
   "source": [
    "## Project layout\n",
    "\n",
    "Use a [`src`-layout](https://setuptools.pypa.io/en/latest/userguide/package_discovery.html#src-layout) package layout."
   ]
  },
  {
   "cell_type": "markdown",
   "id": "23bf351b-54f1-4031-9c3b-2ba4b2ec736e",
   "metadata": {},
   "source": [
    "## Virtual environment"
   ]
  },
  {
   "cell_type": "markdown",
   "id": "f8d7ed9b-256d-4e82-88f0-e79070eccca7",
   "metadata": {},
   "source": [
    "Use [`venv` for virtual environment](https://docs.python.org/3/library/venv.html).\n",
    "\n",
    "`conda` can be used but are best for scientific computing."
   ]
  },
  {
   "cell_type": "markdown",
   "id": "7056e4b8-e42d-4c75-9921-a9c4fe69dea5",
   "metadata": {},
   "source": [
    "## Editable install\n",
    "\n",
    "Install the package in [development mode / editable mode](https://setuptools.readthedocs.io/en/latest/userguide/quickstart.html#development-mode). This enables us to edit the package on the fly without the need to reinstall it."
   ]
  },
  {
   "cell_type": "markdown",
   "id": "8c1da2e5-7178-48ad-a956-b16d515d5b53",
   "metadata": {
    "tags": []
   },
   "source": [
    "## Jupyter magic\n",
    "\n",
    "Use the [`autoreload` magic command when making prototypes in a notebook](https://ipython.org/ipython-doc/3/config/extensions/autoreload.html). And use [Cython magic commands](https://ipython.org/ipython-doc/2/config/extensions/cythonmagic.html) when prototyping Cython code."
   ]
  },
  {
   "cell_type": "markdown",
   "id": "4a6b5729-7aac-4e3e-8561-5ea0dce84e6c",
   "metadata": {},
   "source": [
    "## Testing\n",
    "\n",
    "Use `pytest` and put the tests in a [`tests/` folder in the same directory](https://docs.pytest.org/en/7.1.x/explanation/goodpractices.html#tests-outside-application-code). \n",
    "\n",
    "Often used tools for testing in Python are `pytest` (most common and the best) and `unittest`."
   ]
  },
  {
   "cell_type": "markdown",
   "id": "767b835e-aed5-461f-b8e9-8c8677d71f1f",
   "metadata": {},
   "source": [
    "## Documentation\n",
    "\n",
    "Use `sphinx` for documentation. `mkdocs` seems like the new kid on the block but `sphinx` is older and more used.\n",
    "\n",
    "Write doctests when writing documentation. [Doctest can be run with pytest](https://docs.pytest.org/en/7.1.x/how-to/doctest.html)."
   ]
  },
  {
   "cell_type": "markdown",
   "id": "21ff65c9-90cf-4c19-a2f9-1916d1d46b9f",
   "metadata": {},
   "source": [
    "## Type Checking\n",
    "\n",
    "Use `pyright` for type checking."
   ]
  },
  {
   "cell_type": "markdown",
   "id": "307f40f5-16b0-429b-8e10-f5c2be46fe0f",
   "metadata": {},
   "source": [
    "## Code style formatter\n",
    "\n",
    "Often used are `flake8` or for automatic code formatting people often use `black`."
   ]
  },
  {
   "cell_type": "markdown",
   "id": "9d962b33-b2f7-4e15-9b5e-97a1cad56c52",
   "metadata": {},
   "source": [
    "## Pre-commit hooks\n",
    "\n",
    "[pre-commit](https://pre-commit.com) is often used to run a series of checks before making commits to git e.g. `black` code formatting, `pyright`, `isort` etc."
   ]
  },
  {
   "cell_type": "markdown",
   "id": "0db48398-0021-4554-96e3-4bb175413d1a",
   "metadata": {},
   "source": [
    "## Logging\n",
    "\n",
    "The `logging` module is a nice debugging tool in Python, use it."
   ]
  },
  {
   "cell_type": "markdown",
   "id": "4db85d99-5333-4a88-b611-1691119bf055",
   "metadata": {},
   "source": [
    "## Cookiecutter\n",
    "\n",
    "[cookiecutter](https://github.com/cookiecutter/cookiecutter) can be used to create a template Python project."
   ]
  },
  {
   "cell_type": "markdown",
   "id": "43bb8da7-1ffd-44bd-add3-1e41193be194",
   "metadata": {},
   "source": [
    "## PEP 8\n",
    "\n",
    "Use [PEP 8](https://peps.python.org/pep-0008). And think about the [public and non-public API](https://peps.python.org/pep-0008/#public-and-internal-interfaces). Default to non-public attributes, API etc."
   ]
  },
  {
   "cell_type": "markdown",
   "id": "90fc7d89-7c9b-484a-bc3e-49eaf1b75a6d",
   "metadata": {},
   "source": [
    "## Branching Model\n",
    "\n",
    "Use Github flow. [See this discussion](https://medium.com/@sreekanth.thummala/choosing-the-right-git-branching-strategy-a-comparative-analysis-f5e635443423)."
   ]
  },
  {
   "cell_type": "markdown",
   "id": "6e2f6a34-8525-4726-b06d-6c9a37d2c2ad",
   "metadata": {},
   "source": [
    "## CI/CD Pipelines\n",
    "\n",
    "Use Githubs workflows for CI/CD pipelines."
   ]
  },
  {
   "cell_type": "markdown",
   "id": "b18ba37d-447f-4794-a461-98ff5af0ae45",
   "metadata": {},
   "source": [
    "## Publish Package\n",
    "\n",
    "Use the pypi package index.\n",
    "\n",
    "You can create your own package index on premise (`conda` is pretty easy). Other solutions for an on premise package index exists like [fury](https://gemfury.com)."
   ]
  },
  {
   "cell_type": "markdown",
   "id": "ced517de-e898-4c5e-b30b-3ca609e97246",
   "metadata": {},
   "source": [
    "## Versioning\n",
    "\n",
    "Use [semantic versioning](https://semver.org) e.g. MAJOR.MINOR.PATCH and `git tag` each version and push to the remote.\n",
    "\n",
    "[`versioneer`](https://github.com/python-versioneer/python-versioneer) seems like a cool project to automate parts of the versioning process."
   ]
  }
 ],
 "metadata": {
  "kernelspec": {
   "display_name": "Python 3 (ipykernel)",
   "language": "python",
   "name": "python3"
  },
  "language_info": {
   "codemirror_mode": {
    "name": "ipython",
    "version": 3
   },
   "file_extension": ".py",
   "mimetype": "text/x-python",
   "name": "python",
   "nbconvert_exporter": "python",
   "pygments_lexer": "ipython3",
   "version": "3.9.10"
  }
 },
 "nbformat": 4,
 "nbformat_minor": 5
}
