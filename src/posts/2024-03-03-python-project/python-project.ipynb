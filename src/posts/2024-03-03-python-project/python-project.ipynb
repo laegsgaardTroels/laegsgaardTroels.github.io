{
 "cells": [
  {
   "cell_type": "code",
   "execution_count": null,
   "id": "3ab7e696-c3c2-4bc7-80ee-9d79d93733cd",
   "metadata": {},
   "outputs": [],
   "source": []
  },
  {
   "cell_type": "markdown",
   "id": "bd5ea4a6-b691-42b5-9dff-c23e3f885e66",
   "metadata": {},
   "source": [
    "**Purpose:** Notes on good ideas for organizing and developing a Python project."
   ]
  },
  {
   "cell_type": "markdown",
   "id": "044a3d26-707f-4ea8-8b67-323f6800eccd",
   "metadata": {
    "tags": []
   },
   "source": [
    "## Project layout\n",
    "\n",
    "Use `src`-layout, see [src-layout](https://setuptools.pypa.io/en/latest/userguide/package_discovery.html#src-layout)."
   ]
  },
  {
   "cell_type": "code",
   "execution_count": 1,
   "id": "82942c9a-8bf5-4475-b6fb-2949b2a95673",
   "metadata": {},
   "outputs": [],
   "source": [
    "%%sh\n",
    "mkdir -p src/foo"
   ]
  },
  {
   "cell_type": "markdown",
   "id": "23bf351b-54f1-4031-9c3b-2ba4b2ec736e",
   "metadata": {},
   "source": [
    "## Virtual environment"
   ]
  },
  {
   "cell_type": "markdown",
   "id": "f8d7ed9b-256d-4e82-88f0-e79070eccca7",
   "metadata": {},
   "source": [
    "Use a virtual environment."
   ]
  },
  {
   "cell_type": "code",
   "execution_count": 2,
   "id": "9c4b76a2-03c0-4a1e-855e-826f3c88842b",
   "metadata": {},
   "outputs": [],
   "source": [
    "%%sh\n",
    "python -m venv venv\n",
    "source venv/bin/activate"
   ]
  },
  {
   "cell_type": "markdown",
   "id": "7056e4b8-e42d-4c75-9921-a9c4fe69dea5",
   "metadata": {},
   "source": [
    "## Editable install\n",
    "\n",
    "Then we install the package in editable mode, see [editable-installs](https://pip.pypa.io/en/latest/cli/pip_install/#editable-installs) and [development-mode](https://setuptools.readthedocs.io/en/latest/userguide/quickstart.html#development-mode). This enables us to edit the package on the fly without the need to reinstall it.\n",
    "\n",
    "The `-e` flag installs the module in editable mode, meaning that you can modify your source code in `foo/` and have the changes take effect without you having to rebuild and reinstall, see [3].\n",
    "\n",
    "```bash\n",
    "~$ pip install -h\n",
    "-e, --editable <path/url>   Install a project in editable mode (i.e. setuptools \"develop mode\") from a local project path or a VCS url.\n",
    "```"
   ]
  },
  {
   "cell_type": "markdown",
   "id": "e469b167-d577-478b-8a6f-79c44e2a130e",
   "metadata": {},
   "source": [
    "To run an editable install we need a `setup.py` file."
   ]
  },
  {
   "cell_type": "code",
   "execution_count": 3,
   "id": "cdebfdd1-e081-4730-b783-019067afb620",
   "metadata": {},
   "outputs": [
    {
     "name": "stdout",
     "output_type": "stream",
     "text": [
      "Overwriting setup.py\n"
     ]
    }
   ],
   "source": [
    "%%writefile setup.py\n",
    "\n",
    "from setuptools import setup, find_packages\n",
    "\n",
    "\n",
    "setup(\n",
    "    name=\"foo\",\n",
    "    version=\"0.0.1\",\n",
    "    description=\"A package illustrating editable install.\",\n",
    "    url=\"https://github.com/laegsgaardTroels/autoreload\",\n",
    "    package_dir={\"\": \"src\"},\n",
    "    packages=find_packages(\n",
    "        where=\"src\",\n",
    "        include=[\"foo*\"],\n",
    "    ),\n",
    ")"
   ]
  },
  {
   "cell_type": "code",
   "execution_count": 4,
   "id": "16500d94-08bd-4998-a54e-05109e037f66",
   "metadata": {},
   "outputs": [
    {
     "name": "stdout",
     "output_type": "stream",
     "text": [
      "Obtaining file:///Users/troelslaegsgaard/Git/laegsgaardTroels/laegsgaardTroels.github.io/src/posts/2024-03-03-python-project\n",
      "  Preparing metadata (setup.py): started\n",
      "  Preparing metadata (setup.py): finished with status 'done'\n",
      "Installing collected packages: foo\n",
      "  Attempting uninstall: foo\n",
      "    Found existing installation: foo 0.0.1\n",
      "    Uninstalling foo-0.0.1:\n",
      "      Successfully uninstalled foo-0.0.1\n",
      "  Running setup.py develop for foo\n",
      "Successfully installed foo-0.0.1\n"
     ]
    },
    {
     "name": "stderr",
     "output_type": "stream",
     "text": [
      "\n",
      "[notice] A new release of pip is available: 23.2.1 -> 24.0\n",
      "[notice] To update, run: pip install --upgrade pip\n"
     ]
    }
   ],
   "source": [
    "%%sh\n",
    "pip install -e ."
   ]
  },
  {
   "cell_type": "markdown",
   "id": "8c1da2e5-7178-48ad-a956-b16d515d5b53",
   "metadata": {
    "tags": []
   },
   "source": [
    "## Jupyter magic\n",
    "\n",
    "Use `autoreload` when making prototypes, see [autoreload](https://ipython.org/ipython-doc/3/config/extensions/autoreload.html).\n",
    "\n",
    "`autoreload` is an IPython extension to reload modules before executing user code.\n",
    "\n",
    "`autoreload` reloads modules automatically before entering the execution of code typed at the IPython prompt.\n",
    "\n",
    "This makes for example the following workflow possible:"
   ]
  },
  {
   "cell_type": "code",
   "execution_count": 5,
   "id": "be50e7f2-0afb-40b2-96d8-d33a1c46e846",
   "metadata": {},
   "outputs": [],
   "source": [
    "%load_ext autoreload\n",
    "%autoreload 2"
   ]
  },
  {
   "cell_type": "code",
   "execution_count": 6,
   "id": "d081edff-0512-4cb3-b3bc-15f1e988d815",
   "metadata": {},
   "outputs": [
    {
     "name": "stdout",
     "output_type": "stream",
     "text": [
      "Overwriting src/foo/mappings.py\n"
     ]
    }
   ],
   "source": [
    "%%writefile src/foo/mappings.py\n",
    "\n",
    "def some_function() -> float:\n",
    "    return 42 "
   ]
  },
  {
   "cell_type": "code",
   "execution_count": 7,
   "id": "fa7b61b5-dd6a-41c4-9aff-9914a5d9cf2c",
   "metadata": {},
   "outputs": [
    {
     "data": {
      "text/plain": [
       "42"
      ]
     },
     "execution_count": 7,
     "metadata": {},
     "output_type": "execute_result"
    }
   ],
   "source": [
    "from foo import mappings\n",
    "\n",
    "mappings.some_function()"
   ]
  },
  {
   "cell_type": "markdown",
   "id": "508e6ec5-19b2-4a6d-b459-b64516661829",
   "metadata": {},
   "source": [
    "Now if we change `some_function` to return 43."
   ]
  },
  {
   "cell_type": "code",
   "execution_count": 8,
   "id": "9298bf41-f961-41d7-8a1d-1d5d69107a0c",
   "metadata": {},
   "outputs": [
    {
     "name": "stdout",
     "output_type": "stream",
     "text": [
      "Overwriting src/foo/mappings.py\n"
     ]
    }
   ],
   "source": [
    "%%writefile src/foo/mappings.py\n",
    "\n",
    "def some_function() -> float:\n",
    "    return 43"
   ]
  },
  {
   "cell_type": "markdown",
   "id": "f9d51111-f8c8-452c-be10-4f2dd328fd6b",
   "metadata": {},
   "source": [
    "And we call it again then."
   ]
  },
  {
   "cell_type": "code",
   "execution_count": 9,
   "id": "731465ba-8ad3-4701-b951-6d424437f4d9",
   "metadata": {},
   "outputs": [
    {
     "data": {
      "text/plain": [
       "43"
      ]
     },
     "execution_count": 9,
     "metadata": {},
     "output_type": "execute_result"
    }
   ],
   "source": [
    "mappings.some_function()"
   ]
  },
  {
   "cell_type": "markdown",
   "id": "b47ceddf-cb05-4886-80ad-898094dc5470",
   "metadata": {},
   "source": [
    "The module was reloaded without reloading it explicitly, and the object imported with `from foo import some_function` was also updated."
   ]
  },
  {
   "cell_type": "markdown",
   "id": "4a6b5729-7aac-4e3e-8561-5ea0dce84e6c",
   "metadata": {},
   "source": [
    "## Testing\n",
    "\n",
    "Often used tools for testing in Python are `pytest` (most common) and `unittest`.\n",
    "\n",
    "So use `pytest` and put the tests in a `tests/` folder in the same directory. This is recommended by `pytest`, see [tests-outside-application-code](https://docs.pytest.org/en/7.1.x/explanation/goodpractices.html#tests-outside-application-code)"
   ]
  },
  {
   "cell_type": "code",
   "execution_count": 10,
   "id": "260e8bf6-0956-4601-8f16-ebe0efb5a655",
   "metadata": {},
   "outputs": [],
   "source": [
    "%%sh\n",
    "mkdir -p tests"
   ]
  },
  {
   "cell_type": "markdown",
   "id": "21ff65c9-90cf-4c19-a2f9-1916d1d46b9f",
   "metadata": {},
   "source": [
    "## Type Checking\n",
    "\n",
    "Often used are `pyright`."
   ]
  },
  {
   "cell_type": "markdown",
   "id": "307f40f5-16b0-429b-8e10-f5c2be46fe0f",
   "metadata": {},
   "source": [
    "## Code style formatter\n",
    "\n",
    "Often used are `flake8` or for automatic code formatting people often use `black`."
   ]
  },
  {
   "cell_type": "markdown",
   "id": "9d962b33-b2f7-4e15-9b5e-97a1cad56c52",
   "metadata": {},
   "source": [
    "## Pre-commit hooks\n",
    "\n",
    "[pre-commit](https://pre-commit.com) is often used to run a series of checks before making commits to git e.g. `black` code formatting, `pyright`, `isort` etc."
   ]
  },
  {
   "cell_type": "markdown",
   "id": "0db48398-0021-4554-96e3-4bb175413d1a",
   "metadata": {},
   "source": [
    "## Logging\n",
    "\n",
    "Logging is a nice debugging tool in Python. <!--more--> A mimimal example would be:"
   ]
  },
  {
   "cell_type": "code",
   "execution_count": 11,
   "id": "3b23667b-835a-45e5-ab79-2d99e8526bca",
   "metadata": {},
   "outputs": [
    {
     "name": "stdout",
     "output_type": "stream",
     "text": [
      "Overwriting src/foo/downloader.py\n"
     ]
    }
   ],
   "source": [
    "%%writefile src/foo/downloader.py\n",
    "import logging\n",
    "\n",
    "FILES = ['foo', 'bar']\n",
    "\n",
    "logger = logging.getLogger(__name__)\n",
    "\n",
    "  \n",
    "def download_all():\n",
    "    for filename in FILES:\n",
    "        download_file(filename)\n",
    "\n",
    "\n",
    "def download_file(filename):\n",
    "    logger.info(f'Beginning download of {filename}')"
   ]
  },
  {
   "cell_type": "markdown",
   "id": "23779144-8669-4a7a-9d7e-352f465635d5",
   "metadata": {},
   "source": [
    "The loggers are instantiated using `logging.getLogger(__name__)` in each script. You can then configure the log in a main script using `logging.basicConfig(...)`."
   ]
  },
  {
   "cell_type": "code",
   "execution_count": 12,
   "id": "8d622631-790e-4ebd-8fae-0fd73f9c18e1",
   "metadata": {},
   "outputs": [],
   "source": [
    "import logging \n",
    "import sys\n",
    "\n",
    "logging.basicConfig(\n",
    "    format='%(asctime)s - %(message)s',\n",
    "    stream=sys.stdout,\n",
    "    level=logging.INFO,\n",
    "    datefmt='%d-%b-%y %H:%M:%S',\n",
    "    force=True\n",
    ")"
   ]
  },
  {
   "cell_type": "code",
   "execution_count": 13,
   "id": "84b59178-1a63-4240-a79f-a7d774802f9e",
   "metadata": {},
   "outputs": [
    {
     "name": "stdout",
     "output_type": "stream",
     "text": [
      "01-Apr-24 19:21:45 - Beginning download of foo\n",
      "01-Apr-24 19:21:45 - Beginning download of bar\n"
     ]
    }
   ],
   "source": [
    "from foo import downloader\n",
    "\n",
    "downloader.download_all()"
   ]
  },
  {
   "cell_type": "markdown",
   "id": "4db85d99-5333-4a88-b611-1691119bf055",
   "metadata": {},
   "source": [
    "## Cookiecutter\n",
    "\n",
    "[cookiecutter](https://github.com/cookiecutter/cookiecutter) can be used to create a template Python project."
   ]
  }
 ],
 "metadata": {
  "kernelspec": {
   "display_name": "Python 3 (ipykernel)",
   "language": "python",
   "name": "python3"
  },
  "language_info": {
   "codemirror_mode": {
    "name": "ipython",
    "version": 3
   },
   "file_extension": ".py",
   "mimetype": "text/x-python",
   "name": "python",
   "nbconvert_exporter": "python",
   "pygments_lexer": "ipython3",
   "version": "3.9.10"
  }
 },
 "nbformat": 4,
 "nbformat_minor": 5
}
